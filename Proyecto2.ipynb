{
  "nbformat": 4,
  "nbformat_minor": 0,
  "metadata": {
    "colab": {
      "provenance": [],
      "include_colab_link": true
    },
    "kernelspec": {
      "name": "python3",
      "display_name": "Python 3"
    },
    "language_info": {
      "name": "python"
    }
  },
  "cells": [
    {
      "cell_type": "markdown",
      "metadata": {
        "id": "view-in-github",
        "colab_type": "text"
      },
      "source": [
        "<a href=\"https://colab.research.google.com/github/Reynaldo1102/Python/blob/main/Proyecto2.ipynb\" target=\"_parent\"><img src=\"https://colab.research.google.com/assets/colab-badge.svg\" alt=\"Open In Colab\"/></a>"
      ]
    },
    {
      "cell_type": "markdown",
      "source": [
        "###Ejercicio No 1\n",
        "\n",
        "Fichero autos.csv\n",
        "\n",
        "Generar una función y utilizar esta para recodificar la variable “país\n",
        "de origen” (1, 2, 3) en el dataframe a través de la función apply."
      ],
      "metadata": {
        "id": "wyIqfWwZVAhE"
      }
    },
    {
      "cell_type": "code",
      "source": [
        "import pandas as pd\n",
        "autodf=pd.read_csv('autos.csv', sep=';') # sep=';'\n",
        "autodf"
      ],
      "metadata": {
        "id": "fUqSjjqvVvxK"
      },
      "execution_count": null,
      "outputs": []
    },
    {
      "cell_type": "code",
      "source": [
        "def Cambio_pais(x):\n",
        "  ''' \n",
        "  Esta función permite recodificar la variable \"País de origen\" por los valores numéricos \"1,2,3\"\n",
        "  USA = 1\n",
        "  Japan = 2\n",
        "  Europe = 3\n",
        "  '''\n",
        "  if x == \"USA\":\n",
        "    return 1\n",
        "  elif x == \"Japan\":\n",
        "    return 2\n",
        "  else:\n",
        "    return 3"
      ],
      "metadata": {
        "id": "D3qOEcxbPKs2"
      },
      "execution_count": 2,
      "outputs": []
    },
    {
      "cell_type": "code",
      "source": [
        "# Utilizamos la función apply para recodificar el dataframe\n",
        "autodf['Pais_Origen']=autodf['Pais_Origen'].apply(Cambio_pais)\n",
        "autodf"
      ],
      "metadata": {
        "id": "sE8FLZ1tQQaY"
      },
      "execution_count": null,
      "outputs": []
    },
    {
      "cell_type": "markdown",
      "source": [
        "##Ejercicio No 2\n",
        "\n",
        "Generar un Notebook Colab con código y resultados, que contiene\n",
        "información de autos de un periodo de tiempo. Resolver los\n",
        "siguientes:\n",
        "\n",
        "- Limpieza y tratamiento de las variables (Según corresponda)\n",
        "\n",
        "- Generar 5 nuevas variables aplicando los siguientes criterios\n",
        "con las variables numéricas:\n",
        "\n",
        "1. Log10(var1/var2)\n",
        "2. Sqrt(var1)*exp(var2)/200\n",
        "3. Si var 1 > var 2 → 5, caso contrario 3\n",
        "4. 1/logn(var1/var2)*100\n",
        "5. var2**2/var1"
      ],
      "metadata": {
        "id": "gSJirQhrVLoC"
      }
    },
    {
      "cell_type": "code",
      "source": [
        "import pandas as pd\n",
        "import numpy as np\n",
        "autodf=pd.read_csv('autos.csv', sep=';') # sep=';'\n",
        "autodf"
      ],
      "metadata": {
        "id": "8uaw6Dy5VwS7"
      },
      "execution_count": null,
      "outputs": []
    },
    {
      "cell_type": "code",
      "source": [
        "# Función log10\n",
        "\n",
        "def log_var(x:float,y:float, TypeCal:bool=False)-> float:\n",
        "    '''\n",
        "    Retorna el valor de la función log10.\n",
        "    Parámetros:\n",
        "    'x': Variable de tipo float\n",
        "    'y': Variable de tipo float\n",
        "    'TypeCal': Variable de tipo Booleana. Por defecto \"False\"\n",
        "\n",
        "    Devuelve el logaritmo de base 10 de la división de dos números aproximado a 2 decimales, si se cumple una condicional\n",
        "    igual a 'True'.\n",
        "\n",
        "    Ejemplo:\n",
        "    --------\n",
        "    x=3\n",
        "    y=5\n",
        "    z=x/y\n",
        "    >>> log_var(x=3, y=5, TypeCal=True) # ingresando nuestros argumentos\n",
        "    >>> -0.22\n",
        "    '''\n",
        "    z=x/y\n",
        "    if TypeCal == True:\n",
        "       return (round(np.log10(z),2))  "
      ],
      "metadata": {
        "id": "KBCp3IBsWihh"
      },
      "execution_count": 5,
      "outputs": []
    },
    {
      "cell_type": "code",
      "source": [
        "autodf['log10']=log_var(x=autodf['Aceleracion'],y=autodf['Desplazamiento'], TypeCal=True)\n",
        "autodf.head()"
      ],
      "metadata": {
        "id": "hsh7FHkTeJgR"
      },
      "execution_count": null,
      "outputs": []
    },
    {
      "cell_type": "code",
      "source": [
        "# Función Sqrt(var1)*exp(var2)/200\n",
        "def Sqrt_exp(x:float,y:float, TypeCal:bool=False)-> float:\n",
        "    '''\n",
        "    Retorna el valor de la función Sqrt_exp.\n",
        "    Parámetros:\n",
        "    'x': Variable de tipo float\n",
        "    'y': Variable de tipo float\n",
        "    'TypeCal': Variable de tipo Booleana. Por defecto \"False\"\n",
        "\n",
        "    Devuelve el producto de la raíz cuadrada de un número y el valor de e elevado a un número todo ello dividido por 200 aproximado a 2 decimales, si se cumple una condicional\n",
        "    igual a 'True'.\n",
        "\n",
        "    Ejemplo:\n",
        "    --------\n",
        "    x=3\n",
        "    y=5\n",
        "    >>> Sqrt_exp(x=3, y=5, TypeCal=True) # ingresando nuestros argumentos\n",
        "    >>> 1.29\n",
        "    '''\n",
        "    if TypeCal == True:\n",
        "       return (np.sqrt(x)*np.exp(y)/200)  "
      ],
      "metadata": {
        "id": "HOWrC1pggHxt"
      },
      "execution_count": 7,
      "outputs": []
    },
    {
      "cell_type": "code",
      "source": [
        "autodf['Sqrt_exp']=Sqrt_exp(x=autodf['Aceleracion'],y=autodf['Desplazamiento'], TypeCal=True)\n",
        "autodf.head()"
      ],
      "metadata": {
        "id": "zCZI2PichE6x"
      },
      "execution_count": null,
      "outputs": []
    },
    {
      "cell_type": "code",
      "source": [
        "# Función Si var 1 > var 2 → 5, caso contrario 3\n",
        "def Des_var(x, y):\n",
        "  '''\n",
        "  Retorna el valor 5 si x > y, caso contrario retorna el valor 3\n",
        "  '''\n",
        "  for i in range(min(len(x), len(y))):\n",
        "      if x[i] > y[i]:\n",
        "          return 5\n",
        "  return 3\n"
      ],
      "metadata": {
        "id": "ae-uqxGvhjh6"
      },
      "execution_count": 12,
      "outputs": []
    },
    {
      "cell_type": "code",
      "source": [
        "autodf['Des_var']=Des_var(x=autodf['Aceleracion'],y=autodf['Desplazamiento'])\n",
        "autodf.head()"
      ],
      "metadata": {
        "id": "oAGelD_viwuA"
      },
      "execution_count": null,
      "outputs": []
    },
    {
      "cell_type": "code",
      "source": [
        "# Función 1/logn(var1/var2)*100\n",
        "def log_varn(x:float,y:float,b:float, TypeCal:bool=False)-> float:\n",
        "    '''\n",
        "    Retorna el valor de la función logn.\n",
        "    Parámetros:\n",
        "    'x': Variable de tipo float\n",
        "    'y': Variable de tipo float\n",
        "    'b': Base del logaritmo\n",
        "    'TypeCal': Variable de tipo Booleana. Por defecto \"False\"\n",
        "\n",
        "    Devuelve el recíproco del logaritmo de base b de la división de dos números multiplicado por 100 aproximado a 2 decimales, si se cumple una condicional\n",
        "    igual a 'True'.\n",
        "\n",
        "    Ejemplo:\n",
        "    --------\n",
        "    x=3\n",
        "    y=5\n",
        "    b=6\n",
        "    z=x/y\n",
        "    >>> log_varn(x=3, y=5, b=6, TypeCal=True) # ingresando nuestros argumentos\n",
        "    >>> -350.76\n",
        "    '''\n",
        "    z=x/y\n",
        "    if TypeCal == True:\n",
        "       return (round((1/(np.log10(z)/np.log10(b)))*100,2)) "
      ],
      "metadata": {
        "id": "_UK4miPQsqfc"
      },
      "execution_count": 14,
      "outputs": []
    },
    {
      "cell_type": "code",
      "source": [
        "autodf['logn']=log_varn(x=autodf['Aceleracion'],y=autodf['Desplazamiento'],b=6, TypeCal=True)\n",
        "autodf.head()"
      ],
      "metadata": {
        "id": "0dk7O8TZuN8h"
      },
      "execution_count": null,
      "outputs": []
    },
    {
      "cell_type": "code",
      "source": [
        "# Función var2**2/var1\n",
        "def prod_var(x:float,y:float,TypeCal:bool=False)-> float:\n",
        "    '''\n",
        "    Retorna el valor de var2**2/var1.\n",
        "    Parámetros:\n",
        "    'x': Variable de tipo float\n",
        "    'y': Variable de tipo float\n",
        "    'TypeCal': Variable de tipo Booleana. Por defecto \"False\"\n",
        "\n",
        "    Devuelve el cuadrado de la variable 2 (y) dividido por la variable 1 (x) aproximado a 2 decimales, si se cumple una condicional\n",
        "    igual a 'True'.\n",
        "\n",
        "    Ejemplo:\n",
        "    --------\n",
        "    x=3\n",
        "    y=5\n",
        "    >>> prod_var(x=3, y=5, TypeCal=True) # ingresando nuestros argumentos\n",
        "    >>> 8.33\n",
        "    '''\n",
        "    if TypeCal == True:\n",
        "       return (round(y**2/x,2)) "
      ],
      "metadata": {
        "id": "m5ffmga9uYvl"
      },
      "execution_count": 16,
      "outputs": []
    },
    {
      "cell_type": "code",
      "source": [
        "autodf['prod_var']=prod_var(x=autodf['Aceleracion'],y=autodf['Desplazamiento'], TypeCal=True)\n",
        "autodf.head()"
      ],
      "metadata": {
        "id": "gwYcnw5Svgry"
      },
      "execution_count": null,
      "outputs": []
    },
    {
      "cell_type": "markdown",
      "source": [
        "##Ejercicio No 3\n",
        "\n",
        "- Crear una función que permita generar 3 variables\n",
        "cualitativas ordinales a partir de las variables numéricas con\n",
        "los siguientes criterios:\n",
        "\n",
        "★ Si es mayor a la “media + 1*desviación estándar”\n",
        "→ Alto\n",
        "\n",
        "★ Si está entre “media - 1*desviación estándar” y\n",
        "“media + 1*desviación estándar” → Medio\n",
        "\n",
        "★ Si es menor a la “media - 1*desviación estándar”\n",
        "→ Bajo\n",
        "\n",
        "Nota: Mostrar con las nuevas variables generadas.\n",
        "\n",
        "Elegir con libertad las variables a trabajar.\n",
        "\n",
        "La función debe contar con su respectiva documentación."
      ],
      "metadata": {
        "id": "d_V0tQJsVWHC"
      }
    },
    {
      "cell_type": "code",
      "source": [
        "import pandas as pd\n",
        "import numpy as np\n",
        "autodf=pd.read_csv('autos.csv', sep=';') # sep=';'\n",
        "autodf"
      ],
      "metadata": {
        "id": "ym4MkFM9Vw9b"
      },
      "execution_count": null,
      "outputs": []
    },
    {
      "cell_type": "code",
      "source": [
        "def Decision(x):\n",
        "  '''\n",
        "  Retorna el valor cualitativo ordinal de acuerdo a lo siguiente:\n",
        "  Si es mayor a la “media + 1*desviación estándar” → Alto\n",
        "  Si está entre “media - 1desviación estándar” y “media + 1desviación estándar” → Medio\n",
        "  Si es menor a la “media - 1*desviación estándar” → Bajo\n",
        "  '''\n",
        "  m=np.mean(x)\n",
        "  s=np.std(x)\n",
        "  a=m+1*s\n",
        "  b=m-1*s\n",
        "  for i in range(0,(len(x))):\n",
        "        if x[i] > a:\n",
        "            return \"Alto\"\n",
        "        elif x[i]>b and x[i]<a:\n",
        "            return \"Medio\"\n",
        "        else:\n",
        "            return \"Bajo\""
      ],
      "metadata": {
        "id": "OVsDsAPCwrzT"
      },
      "execution_count": 19,
      "outputs": []
    },
    {
      "cell_type": "code",
      "source": [
        "autodf['Decision']=Decision(x=autodf['Aceleracion'])\n",
        "autodf.head()"
      ],
      "metadata": {
        "id": "emVivLq5yh2Q"
      },
      "execution_count": null,
      "outputs": []
    },
    {
      "cell_type": "markdown",
      "source": [
        "## Ejercicio No 4\n",
        "\n",
        "- Crear una función que muestre los siguientes gráficos\n",
        "(simultáneamente) para las variables numéricas, según una\n",
        "variable cualitativa:\n",
        "\n",
        "❖ Cajas y bigotes\n",
        "\n",
        "❖ Barras de la media\n",
        "\n",
        "❖ Histograma con Curva\n",
        "\n",
        "La función debe contar con su respectiva documentación."
      ],
      "metadata": {
        "id": "a5zfYxbGVe1a"
      }
    },
    {
      "cell_type": "code",
      "source": [
        "import matplotlib.pyplot as plt\n",
        "from matplotlib import style\n",
        "import seaborn as sns"
      ],
      "metadata": {
        "id": "MVy5hiIHVxfS"
      },
      "execution_count": 21,
      "outputs": []
    },
    {
      "cell_type": "code",
      "source": [
        "columnas = autodf.select_dtypes(include=['float64', 'int']).columns\n",
        "autodf['Pais_Origen'] = autodf['Pais_Origen'].apply(str)\n",
        "columnas\n"
      ],
      "metadata": {
        "id": "rHrot8Q0Ew4q"
      },
      "execution_count": null,
      "outputs": []
    },
    {
      "cell_type": "code",
      "source": [
        "# Función para gráfico de cajas y bigotes\n",
        "def Grafico_box(columnas: list, data: pd.DataFrame, x: str):\n",
        "  '''\n",
        "  Gráficos simultáneos para variables numéricas con una variable cualitativa.\n",
        "\n",
        "  Parámetros\n",
        "  ----------\n",
        "  \n",
        "  'columnas' : lista con los nombres de las variables numéricas.\n",
        "  'data' : de tipo DataFrame.\n",
        "  'x' : variable cualitativa | variable de exploración.\n",
        "  \n",
        "  Esta función graficará 1 gráfico de cajas y bigotes para cada variable numérica ingresada \n",
        "  en la `lista`, según la variable `x`.\n",
        "  '''\n",
        "  for i, columnas in enumerate(columnas): \n",
        "    fig, ax = plt.subplots(figsize=(6, 3.84))\n",
        "    sns.boxplot( \n",
        "        x = x,  # eje X\n",
        "        y = columnas,  # eje Y\n",
        "        data  = data,\n",
        "        )\n",
        "    ax.set_title(columnas, fontsize = 10, fontweight = \"bold\")\n",
        "    ax.tick_params(labelsize = 8)\n",
        "    ax.set_xlabel(\"País de Origen\")"
      ],
      "metadata": {
        "id": "Rusi-R8Q_0dA"
      },
      "execution_count": 23,
      "outputs": []
    },
    {
      "cell_type": "code",
      "source": [
        "x = autodf.Pais_Origen\n",
        "Grafico_box(data=autodf, columnas=columnas, x=x)"
      ],
      "metadata": {
        "id": "-ZgNyi1ABbPc"
      },
      "execution_count": null,
      "outputs": []
    },
    {
      "cell_type": "code",
      "source": [
        "# Función para gráfico de barras de la media\n",
        "def Grafico_bar(columnas: list, data: pd.DataFrame, x: str):\n",
        "  '''\n",
        "  Gráficos simultáneos para variables numéricas con una variable cualitativa.\n",
        "\n",
        "  Parámetros\n",
        "  ----------\n",
        "  \n",
        "  'columnas' : lista con los nombres de las variables numéricas.\n",
        "  'data' : de tipo DataFrame.\n",
        "  'x' : variable cualitativa | variable de exploración.\n",
        "  \n",
        "  Esta función graficará 1 gráfico de barras para cada variable numérica ingresada \n",
        "  en la `lista`, según la variable `x`.\n",
        "  '''\n",
        "  for i, columnas in enumerate(columnas): \n",
        "    fig, ax = plt.subplots(figsize=(6, 3.84))\n",
        "    sns.barplot( \n",
        "        x = x,  # eje X\n",
        "        y = columnas,  # eje Y\n",
        "        data  = data,\n",
        "        )\n",
        "    ax.set_title(columnas, fontsize = 10, fontweight = \"bold\")\n",
        "    ax.tick_params(labelsize = 8)\n",
        "    ax.set_xlabel(\"País de Origen\")"
      ],
      "metadata": {
        "id": "DMES70EOGS9Y"
      },
      "execution_count": 25,
      "outputs": []
    },
    {
      "cell_type": "code",
      "source": [
        "x = autodf.Pais_Origen\n",
        "Grafico_bar(data=autodf, columnas=columnas, x=x)"
      ],
      "metadata": {
        "id": "37l-EBKFG2GR"
      },
      "execution_count": null,
      "outputs": []
    },
    {
      "cell_type": "code",
      "source": [
        "# Función para gráfico de histograma con curva\n",
        "def Grafico_histplot(columnas: list, data: pd.DataFrame, x: str):\n",
        "  '''\n",
        "  Gráficos simultáneos para variables numéricas con una variable cualitativa.\n",
        "\n",
        "  Parámetros\n",
        "  ----------\n",
        "  \n",
        "  'columnas' : lista con los nombres de las variables numéricas.\n",
        "  'data' : de tipo DataFrame.\n",
        "  'x' : variable cualitativa | variable de exploración.\n",
        "  \n",
        "  Esta función graficará 1 gráfico de histograma con curva para cada variable numérica ingresada \n",
        "  en la `lista`, según la variable `x`.\n",
        "  '''\n",
        "  for i, columnas in enumerate(columnas): \n",
        "    fig, ax = plt.subplots(figsize=(6, 3.84))\n",
        "    sns.histplot( \n",
        "        x = x,  # eje X\n",
        "        y = columnas,  # eje Y\n",
        "        palette = 'pastel',\n",
        "        data  = data,\n",
        "        kde=True)\n",
        "    ax.set_title(columnas, fontsize = 10, fontweight = \"bold\")\n",
        "    ax.tick_params(labelsize = 8)\n",
        "    ax.set_xlabel(\"País de Origen\")"
      ],
      "metadata": {
        "id": "sKDtmdNpI4Q5"
      },
      "execution_count": 27,
      "outputs": []
    },
    {
      "cell_type": "code",
      "source": [
        "x = autodf.Pais_Origen\n",
        "Grafico_histplot(data=autodf, columnas=columnas, x=x)"
      ],
      "metadata": {
        "id": "TLiplFNXJWJI"
      },
      "execution_count": null,
      "outputs": []
    },
    {
      "cell_type": "markdown",
      "source": [
        "##Ejercicio No 5\n",
        "\n",
        "- Crear una función que devuelva un mapa de calor con la\n",
        "correlación de todas las variables numéricas (incluye las\n",
        "generadas), para cada país.\n",
        "\n",
        "La función debe contar con su respectiva documentación."
      ],
      "metadata": {
        "id": "qhy-NdU2Vjdi"
      }
    },
    {
      "cell_type": "code",
      "source": [
        "f1=[\"USA\"]\n",
        "auto_pais_1=autodf[autodf['Pais_Origen'].isin(f1)]\n",
        "auto_pais_1"
      ],
      "metadata": {
        "id": "v7UVjQReWIX0"
      },
      "execution_count": null,
      "outputs": []
    },
    {
      "cell_type": "code",
      "source": [
        "autocorr1=auto_pais_1.corr(method='pearson')\n",
        "autocorr1"
      ],
      "metadata": {
        "id": "PjNJrwwYLVha"
      },
      "execution_count": null,
      "outputs": []
    },
    {
      "cell_type": "code",
      "source": [
        "def mapa_calor(x):\n",
        "  '''\n",
        "  Un mapa de calor es un tipo de gráfico que usa diferentes tonos de colores para representar valores de datos.\n",
        "  x = Valores de datos\n",
        "  '''\n",
        "  sns.heatmap(x,\n",
        "            xticklabels=x,\n",
        "            yticklabels=x.columns,\n",
        "            cmap='coolwarm');"
      ],
      "metadata": {
        "id": "Ycoo9c0lQ467"
      },
      "execution_count": 31,
      "outputs": []
    },
    {
      "cell_type": "code",
      "source": [
        "mapa_calor(autocorr1)"
      ],
      "metadata": {
        "id": "W153BuACZjwS"
      },
      "execution_count": null,
      "outputs": []
    },
    {
      "cell_type": "code",
      "source": [
        "f2=[\"Japan\"]\n",
        "auto_pais_2=autodf[autodf['Pais_Origen'].isin(f2)]\n",
        "auto_pais_2"
      ],
      "metadata": {
        "id": "PeFKQ9LbZAqf"
      },
      "execution_count": null,
      "outputs": []
    },
    {
      "cell_type": "code",
      "source": [
        "autocorr2=auto_pais_2.corr(method='pearson')\n",
        "autocorr2"
      ],
      "metadata": {
        "id": "vr9nuiwGZLWg"
      },
      "execution_count": null,
      "outputs": []
    },
    {
      "cell_type": "code",
      "source": [
        "mapa_calor(autocorr2)"
      ],
      "metadata": {
        "id": "gGo5T3fcZsiR"
      },
      "execution_count": null,
      "outputs": []
    },
    {
      "cell_type": "code",
      "source": [
        "f3=[\"Europe\"]\n",
        "auto_pais_3=autodf[autodf['Pais_Origen'].isin(f3)]\n",
        "auto_pais_3"
      ],
      "metadata": {
        "id": "_uf8wMWjZxps"
      },
      "execution_count": null,
      "outputs": []
    },
    {
      "cell_type": "code",
      "source": [
        "autocorr3=auto_pais_3.corr(method='pearson')\n",
        "autocorr3"
      ],
      "metadata": {
        "id": "XlV_9HL6Z3JX"
      },
      "execution_count": null,
      "outputs": []
    },
    {
      "cell_type": "code",
      "source": [
        "mapa_calor(autocorr3)"
      ],
      "metadata": {
        "id": "cSzNl2OpZ6El"
      },
      "execution_count": null,
      "outputs": []
    }
  ]
}